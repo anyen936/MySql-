{
 "cells": [
  {
   "cell_type": "code",
   "execution_count": null,
   "metadata": {},
   "outputs": [],
   "source": [
    "print(\"1234\")"
   ]
  },
  {
   "cell_type": "markdown",
   "metadata": {},
   "source": [
    "安裝mysql"
   ]
  },
  {
   "cell_type": "code",
   "execution_count": 11,
   "metadata": {},
   "outputs": [],
   "source": [
    "# pip install pymysql\n"
   ]
  },
  {
   "cell_type": "code",
   "execution_count": 2,
   "metadata": {},
   "outputs": [
    {
     "data": {
      "text/plain": [
       "'1.4.6'"
      ]
     },
     "execution_count": 2,
     "metadata": {},
     "output_type": "execute_result"
    }
   ],
   "source": [
    "import pymysql\n",
    "pymysql.__version__"
   ]
  },
  {
   "cell_type": "markdown",
   "metadata": {},
   "source": [
    "連結mysql"
   ]
  },
  {
   "cell_type": "code",
   "execution_count": 3,
   "metadata": {},
   "outputs": [
    {
     "data": {
      "text/plain": [
       "<pymysql.connections.Connection at 0x1a5e40dc970>"
      ]
     },
     "execution_count": 3,
     "metadata": {},
     "output_type": "execute_result"
    }
   ],
   "source": [
    "connect=pymysql.connect(\n",
    "    user = \"root\",\n",
    "    password=\"5555\",\n",
    "    host=\"127.0.0.1\",\n",
    "    database=\"shop\",\n",
    "    port=3306\n",
    ")\n",
    "connect"
   ]
  },
  {
   "cell_type": "code",
   "execution_count": 5,
   "metadata": {},
   "outputs": [
    {
     "data": {
      "text/plain": [
       "<pymysql.cursors.Cursor at 0x1a5e3213760>"
      ]
     },
     "execution_count": 5,
     "metadata": {},
     "output_type": "execute_result"
    }
   ],
   "source": [
    "cursor=connect.cursor() \n",
    "cursor"
   ]
  },
  {
   "cell_type": "markdown",
   "metadata": {},
   "source": [
    "###查詢語法\n",
    "select from tablename"
   ]
  },
  {
   "cell_type": "markdown",
   "metadata": {},
   "source": []
  },
  {
   "cell_type": "code",
   "execution_count": 25,
   "metadata": {},
   "outputs": [
    {
     "data": {
      "text/plain": [
       "(1, '098855555', '12345678', '台北市信義路5段8號2樓')"
      ]
     },
     "execution_count": 25,
     "metadata": {},
     "output_type": "execute_result"
    }
   ],
   "source": [
    "# sqlstr=\"select * from user;\"\n",
    "sqlstr = \"select id,phone,email,address from user ;\"\n",
    "cursor.execute(sqlstr)\n",
    "users =cursor.fetchone()\n",
    "users"
   ]
  },
  {
   "cell_type": "markdown",
   "metadata": {},
   "source": [
    "插入語法 註冊功能\n"
   ]
  },
  {
   "cell_type": "code",
   "execution_count": 26,
   "metadata": {},
   "outputs": [
    {
     "data": {
      "text/plain": [
       "\"insert into user (username , email, password ,phone,address) \\\\ values ('長直直','maria@gmail.com.tw','0911222333','新北蘆洲區')\""
      ]
     },
     "execution_count": 26,
     "metadata": {},
     "output_type": "execute_result"
    }
   ],
   "source": [
    "username = input(\"姓名\")\n",
    "email = input(\"Email\")\n",
    "password =input(\"密碼\")\n",
    "phone = input(\"手機號碼\")\n",
    "address = input(\"地址\")\n",
    "\n",
    "\n",
    "\n",
    "\n",
    "sqlstr = f\"insert into user (username , email, password ,phone,address) \\ values ('{username}','{email}','{phone}','{address}')\"\n",
    "sqlstr"
   ]
  },
  {
   "cell_type": "code",
   "execution_count": 28,
   "metadata": {},
   "outputs": [
    {
     "name": "stdout",
     "output_type": "stream",
     "text": [
      "輸入失敗 (1064, \"You have an error in your SQL syntax; check the manual that corresponds to your MariaDB server version for the right syntax to use near '\\\\ values ('長直直','maria@gmail.com.tw','0911222333','新北蘆洲區')' at line 1\")\n"
     ]
    }
   ],
   "source": [
    "try:\n",
    "    cursor.execute(sqlstr)\n",
    "    connect.commit()\n",
    "except Exception as e:\n",
    "    print(\"輸入失敗\",e)"
   ]
  },
  {
   "cell_type": "markdown",
   "metadata": {},
   "source": [
    "登入連結"
   ]
  },
  {
   "cell_type": "code",
   "execution_count": 21,
   "metadata": {},
   "outputs": [
    {
     "data": {
      "text/plain": [
       "\"select * from user where email ='marai@gmail.com' and password='1333333'\""
      ]
     },
     "execution_count": 21,
     "metadata": {},
     "output_type": "execute_result"
    }
   ],
   "source": [
    "email = input(\"Email\")\n",
    "password = input(\"密碼\")\n",
    "\n",
    "sqlstr=f\"select * from user where email ='{email}' and password='{password}'\"\n",
    "sqlstr"
   ]
  },
  {
   "cell_type": "code",
   "execution_count": 22,
   "metadata": {},
   "outputs": [],
   "source": [
    "cursor.execute(sqlstr)\n",
    "user=cursor.fetchone()\n",
    "user"
   ]
  },
  {
   "cell_type": "code",
   "execution_count": 23,
   "metadata": {},
   "outputs": [
    {
     "name": "stdout",
     "output_type": "stream",
     "text": [
      "登入失敗\n"
     ]
    }
   ],
   "source": [
    "if user != None:\n",
    "    print(\"登入成功\")\n",
    "else :\n",
    "    print(\"登入失敗\")"
   ]
  },
  {
   "cell_type": "code",
   "execution_count": 14,
   "metadata": {},
   "outputs": [],
   "source": [
    "connect.close()"
   ]
  },
  {
   "cell_type": "markdown",
   "metadata": {},
   "source": [
    "### 商品列表\n"
   ]
  },
  {
   "cell_type": "code",
   "execution_count": 6,
   "metadata": {},
   "outputs": [
    {
     "data": {
      "text/plain": [
       "((2, 'Hogan label', 20800.0, 20, '黑色 銀色', datetime.date(2024, 9, 1)),\n",
       " (3,\n",
       "  'hogan ss 2024 active ',\n",
       "  20900.0,\n",
       "  15,\n",
       "  '共3個顏色 白 粉桃 黑 高度6.5Cm 尺寸 23~25.5cm',\n",
       "  datetime.date(2024, 9, 1)),\n",
       " (1,\n",
       "  'hogan ss 2024 attractive',\n",
       "  18900.0,\n",
       "  1,\n",
       "  '共3個顏色 藍 黃 棕 高度6.5Cm 尺寸 26~35cm',\n",
       "  datetime.date(2024, 9, 1)))"
      ]
     },
     "execution_count": 6,
     "metadata": {},
     "output_type": "execute_result"
    }
   ],
   "source": [
    "sqlstr='select * from item;'\n",
    "cursor.execute(sqlstr)\n",
    "item=cursor.fetchall()\n",
    "item"
   ]
  },
  {
   "cell_type": "code",
   "execution_count": 8,
   "metadata": {},
   "outputs": [
    {
     "name": "stdout",
     "output_type": "stream",
     "text": [
      "___________________________________________________________\n",
      "1.商品名稱Hogan label 價格20800.0 數量:20 備註黑色 銀色\n",
      "2.商品名稱hogan ss 2024 active  價格20900.0 數量:15 備註共3個顏色 白 粉桃 黑 高度6.5Cm 尺寸 23~25.5cm\n",
      "3.商品名稱hogan ss 2024 attractive 價格18900.0 數量:1 備註共3個顏色 藍 黃 棕 高度6.5Cm 尺寸 26~35cm\n",
      "完成購買\n"
     ]
    }
   ],
   "source": [
    "while True :\n",
    "    print(\"_\"*59)\n",
    "    for i ,buy_item in enumerate(item):\n",
    "    # print(buy_item)\n",
    "        print(f\"{i+1}.商品名稱{buy_item[1]} 價格{buy_item[2]} 數量:{buy_item[3]} 備註{buy_item[4]}\")\n",
    "    choice= int(input(\"輸入編號(0:eixt):\"))\n",
    "    if choice==0:\n",
    "        break\n",
    "    #選項>=1 and <=len(buy_itme)\n",
    "    if choice <1 or choice >len(item):\n",
    "        print(\"輸入錯誤\")\n",
    "        continue\n",
    "    # 數量<1 (OUT OF STOCK)\n",
    "    if buy_item[choice-1][3]<1:\n",
    "        print(f\"{buy_item[choice-1][1]}無庫存\")\n",
    "print(\"完成購買\")"
   ]
  }
 ],
 "metadata": {
  "kernelspec": {
   "display_name": "base",
   "language": "python",
   "name": "python3"
  },
  "language_info": {
   "codemirror_mode": {
    "name": "ipython",
    "version": 3
   },
   "file_extension": ".py",
   "mimetype": "text/x-python",
   "name": "python",
   "nbconvert_exporter": "python",
   "pygments_lexer": "ipython3",
   "version": "3.8.8"
  }
 },
 "nbformat": 4,
 "nbformat_minor": 2
}
